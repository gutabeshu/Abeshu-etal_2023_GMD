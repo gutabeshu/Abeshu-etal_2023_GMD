{
 "cells": [
  {
   "cell_type": "code",
   "execution_count": 1,
   "metadata": {},
   "outputs": [],
   "source": [
    "import os\n",
    "from tqdm import tqdm\n",
    "import xarray\n",
    "import pandas as pd\n",
    "import geopandas as gpd\n",
    "from datetime import date, timedelta\n",
    "from scipy.stats import pearsonr\n",
    "import spotpy\n",
    "from scipy import stats\n",
    "\n",
    "import cartopy.feature as cfeature\n",
    "import numpy as np\n",
    "import cartopy.crs as ccrs\n",
    "import cartopy\n",
    "import colorcet as cc\n",
    "from cmcrameri import cm\n",
    "import matplotlib as mpl\n",
    "import matplotlib.pyplot as plt\n",
    "import seaborn as sns\n",
    "import proplot as pplt\n",
    "import xarray \n",
    "from sklearn.preprocessing import MinMaxScaler\n",
    "from scipy import stats\n",
    "from scipy.optimize import curve_fit\n",
    "\n",
    "\n",
    "plt.rcParams['figure.autolayout'] = True \n",
    "plt.rcParams.update({'font.size': 12}) \n",
    "SAVE_KWDS = {\"bbox_inches\": \"tight\", \"dpi\": 450, \"facecolor\": \"w\"}\n",
    "BASE_PLOT = {\"facecolor\": 'none', \"edgecolor\": 'k', \"alpha\": 0.9,}#  \"figsize\": (4, 4)}\n",
    "\n",
    "#warning\n",
    "import warnings\n",
    "warnings.filterwarnings('ignore')\n",
    "\n"
   ]
  },
  {
   "cell_type": "code",
   "execution_count": 2,
   "metadata": {},
   "outputs": [],
   "source": [
    "#############################################################\n",
    "#os.chdir('D:/XanthosDev/Results_11072021/94')\n",
    "#os.chdir('D:/XanthosDev/Results_11072021/Result_100k')\n",
    "basinName = pd.read_csv('D:/XanthosDev/example/input/reference/BasinNames235.txt')\n",
    "basin_id = pd.read_csv('D:/XanthosDev/example/input/reference/basin.csv')\n",
    "#GRDC_xanthosCoordIndx = pd.read_csv('/project/hli/gabeshu/Guta_Working/Basins_Result/UScells/inputs/GRDC_xanthosCoordIndx.csv')\n",
    "GRDC_xanthosCoordIndx = pd.read_csv('D:/XanthosDev/example/input/GRDC_stations_selected_final_list.csv')\n",
    "\n",
    "indx_f = ~((GRDC_xanthosCoordIndx['basins']==58) | (GRDC_xanthosCoordIndx['basins']==84) | (GRDC_xanthosCoordIndx['basins']==169))\n",
    "GRDC_xanthosCoordIndx = GRDC_xanthosCoordIndx[indx_f].reset_index(drop=True)\n",
    "\n",
    "basins94 = np.array(GRDC_xanthosCoordIndx['basins']).astype(np.int64)\n",
    "xanthosid = np.array(GRDC_xanthosCoordIndx['xanthosID_new_adj']).astype(np.int64)\n",
    "basinName_94 = []\n",
    "for ii in range(91):\n",
    "    indx_basin = basins94[ii] - 1\n",
    "    basinName_94.append(basinName['BName'][indx_basin])\n"
   ]
  },
  {
   "cell_type": "code",
   "execution_count": 3,
   "metadata": {},
   "outputs": [],
   "source": [
    "def runoff_model_output(dir_in, basin_num):\n",
    "    os.chdir(dir_in)\n",
    "    basin_calibration =  pd.read_csv('basin_calibration_' + str(basin_num) + 'c.csv')\n",
    "    basin_calibration = basin_calibration.drop(['para',\t'parb',\t'parc',\t'pard',\t'parm'], 1)\n",
    "    ## basin_abcd\n",
    "    basin_abcd = basin_calibration[['simulation1_1', 'simulation1_2', 'simulation1_3', 'simulation1_4', 'simulation1_5']]\n",
    "    basin_abcd.columns = ['par_a',\t'par_b',\t'par_c',\t'par_d',\t'par_m']\n",
    "    basin_calibration = basin_calibration.drop(['simulation1_1', 'simulation1_2', 'simulation1_3', 'simulation1_4', 'simulation1_5'], 1)\n",
    "\n",
    "    ######### Runoff\n",
    "    ## basin annual runoff\n",
    "    basin_annaul_RO  = basin_calibration[['simulation2_1', 'simulation2_2', 'simulation2_3',\n",
    "                                            'simulation2_4', 'simulation2_5', 'simulation2_6', 'simulation2_7',\n",
    "                                            'simulation2_8', 'simulation2_9', 'simulation2_10', 'simulation2_11',\n",
    "                                            'simulation2_12', 'simulation2_13', 'simulation2_14', 'simulation2_15',\n",
    "                                            'simulation2_16', 'simulation2_17', 'simulation2_18', 'simulation2_19',\n",
    "                                            'simulation2_20', 'simulation2_21', 'simulation2_22', 'simulation2_23',\n",
    "                                            'simulation2_24', 'simulation2_25', 'simulation2_26', 'simulation2_27',\n",
    "                                            'simulation2_28', 'simulation2_29', 'simulation2_30', 'simulation2_31']]\n",
    "    basin_annaul_RO.columns = np.arange(1971,2002, 1)   \n",
    "    ## basin mean monthly runoff\n",
    "    basin_MM_RO   = basin_calibration[['simulation3_1', 'simulation3_2', 'simulation3_3', 'simulation3_4',\n",
    "                                        'simulation3_5', 'simulation3_6', 'simulation3_7', 'simulation3_8',\n",
    "                                        'simulation3_9', 'simulation3_10', 'simulation3_11', 'simulation3_12']]\n",
    "    basin_MM_RO.columns  = [['Ja', 'Fb', 'Mr', 'Ap', 'My', 'Ju', 'Jl', 'Ag', 'Sb', 'Oc', 'Nv', 'Dc']]\n",
    "\n",
    "\n",
    "    ######## ET\n",
    "    ## basin annual ET\n",
    "    basin_annaul_ET  = basin_calibration[['simulation4_1', 'simulation4_2', 'simulation4_3', 'simulation4_4',\n",
    "                                            'simulation4_5', 'simulation4_6', 'simulation4_7', 'simulation4_8',\n",
    "                                            'simulation4_9', 'simulation4_10', 'simulation4_11', 'simulation4_12',\n",
    "                                            'simulation4_13', 'simulation4_14', 'simulation4_15', 'simulation4_16',\n",
    "                                            'simulation4_17', 'simulation4_18', 'simulation4_19', 'simulation4_20',\n",
    "                                            'simulation4_21', 'simulation4_22', 'simulation4_23', 'simulation4_24',\n",
    "                                            'simulation4_25', 'simulation4_26', 'simulation4_27', 'simulation4_28',\n",
    "                                            'simulation4_29', 'simulation4_30', 'simulation4_31']]\n",
    "    basin_annaul_ET.columns = np.arange(1971,2002, 1)   \n",
    "\n",
    "    ## basin mean monthly ET\n",
    "    basin_MM_ET   = basin_calibration[['simulation5_1','simulation5_2', 'simulation5_3', 'simulation5_4', 'simulation5_5',\n",
    "                    'simulation5_6', 'simulation5_7', 'simulation5_8', 'simulation5_9',\n",
    "                    'simulation5_10', 'simulation5_11', 'simulation5_12']]\n",
    "    basin_MM_ET.columns  = [['Ja', 'Fb', 'Mr', 'Ap', 'My', 'Ju', 'Jl', 'Ag', 'Sb', 'Oc', 'Nv', 'Dc']]\n",
    "\n",
    "    return basin_abcd, basin_annaul_RO, basin_MM_RO, basin_annaul_ET, basin_MM_ET\n"
   ]
  },
  {
   "cell_type": "code",
   "execution_count": 4,
   "metadata": {},
   "outputs": [
    {
     "data": {
      "image/png": "[encoded data removed]",
      "text/plain": [
       "Figure(nrows=1, ncols=1, figwidth=3.43)"
      ]
     },
     "metadata": {
      "image/png": {
       "height": 311,
       "width": 335
      }
     },
     "output_type": "display_data"
    }
   ],
   "source": [
    "start_yr = 1971\n",
    "ending_yr = 1990\n",
    "dir_in = 'D:\\\\XanthosDev\\\\Parameter-Selection\\\\WATCH\\\\WATCH-1M-Run-abcdm'\n",
    "SAVE_KWDS = {\"bbox_inches\": \"tight\", \"dpi\": 450, \"facecolor\": \"w\"}\n",
    "length_check = np.zeros([91,])\n",
    "plt.rcParams['figure.autolayout'] = True \n",
    "plt.rcParams.update({'font.size': 12}) \n",
    "\n",
    "basin_num = 6\n",
    "bb = np.where(basins94==basin_num)[0]\n",
    "## Get data : simulated   \n",
    "basin_abcd, basin_annaul_RO, basin_MM_RO, basin_annaul_ET, basin_MM_ET = runoff_model_output(dir_in, basin_num)\n",
    "basin_abcd['par_b'] = basin_abcd['par_b']/8\n",
    "basin_abcd.columns = ['a','b','c','d','m']\n",
    "##################################################\n",
    "plt.style.use('science')\n",
    "with plt.style.context(['science', 'high-contrast']):\n",
    "    fig, axs = pplt.subplots(nrows=1, ncols=1,  share=1, journal='pnas1')\n",
    "    ax = axs[0]\n",
    "    ax.boxplot(np.array(basin_abcd), notch=True ,facecolor='light blue')\n",
    "\n",
    "\n",
    "    ax.set_xticklabels(['a','b/8','c','d','m'])\n",
    "    #ax.autoscale(tight=True)      \n",
    "    ax.format(ylabel='Parameter Values' , fontsize= 12)  \n",
    "    ax.format(ylabel='Parameter Values', abcstyle=False,  grid=False)   \n",
    "    ax.minorticks_off()\n",
    "\n",
    "plt.tight_layout()   \n",
    "\n",
    "fgiure_dir = 'C:\\\\Users\\\\gwabeshu.COUGARNET\\\\OneDrive - University Of Houston\\\\Desktop\\\\Xanthos-Manuscript\\\\figures-v2\\\\'\n",
    "plt.savefig(fgiure_dir + \"Figure-5-LHS-sampling-plot.png\", **SAVE_KWDS)  "
   ]
  }
 ],
 "metadata": {
  "interpreter": {
   "hash": "156c20685029d0a0aed1bc52a8780621969c42d3706a558bda39533fe0b16c05"
  },
  "kernelspec": {
   "display_name": "py3env",
   "language": "python",
   "name": "python3"
  },
  "language_info": {
   "codemirror_mode": {
    "name": "ipython",
    "version": 3
   },
   "file_extension": ".py",
   "mimetype": "text/x-python",
   "name": "python",
   "nbconvert_exporter": "python",
   "pygments_lexer": "ipython3",
   "version": "3.9.6"
  }
 },
 "nbformat": 4,
 "nbformat_minor": 4
}
